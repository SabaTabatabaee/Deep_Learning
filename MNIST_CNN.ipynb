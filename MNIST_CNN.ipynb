{
  "nbformat": 4,
  "nbformat_minor": 0,
  "metadata": {
    "colab": {
      "provenance": []
    },
    "kernelspec": {
      "name": "python3",
      "display_name": "Python 3"
    },
    "language_info": {
      "name": "python"
    }
  },
  "cells": [
    {
      "cell_type": "markdown",
      "source": [
        "# Convolutional Neural Networks with Keras"
      ],
      "metadata": {
        "id": "9g_TAms_zwOo"
      }
    },
    {
      "cell_type": "code",
      "source": [
        "import keras\n",
        "from keras.models import Sequential\n",
        "from keras.layers import Dense\n",
        "from keras.utils import to_categorical"
      ],
      "metadata": {
        "id": "vjYxA8h6z1kT"
      },
      "execution_count": 8,
      "outputs": []
    },
    {
      "cell_type": "code",
      "source": [
        "# for cnn we need these additional packages\n",
        "from tensorflow.keras.layers import Conv2D # to add convolutional layers\n",
        "from tensorflow.keras.layers import MaxPooling2D # to add pooling layers\n",
        "from tensorflow.keras.layers import Flatten # to flatten data for fully connected layers"
      ],
      "metadata": {
        "id": "vfKWr0Ndz-IY"
      },
      "execution_count": 9,
      "outputs": []
    },
    {
      "cell_type": "code",
      "source": [
        "# cnn with one convolution layer and one pooling layer\n",
        "# import data\n",
        "from keras.datasets import mnist\n",
        "\n",
        "# load data\n",
        "(X_train, y_train), (X_test, y_test) = mnist.load_data()\n",
        "\n",
        "# reshape to be [samples][pixels][width][height]\n",
        "X_train = X_train.reshape(X_train.shape[0], 28, 28, 1).astype('float32')\n",
        "X_test = X_test.reshape(X_test.shape[0], 28, 28, 1).astype('float32')"
      ],
      "metadata": {
        "colab": {
          "base_uri": "https://localhost:8080/"
        },
        "id": "gtfz6xwZ0B-o",
        "outputId": "b7aa3036-9765-4a6f-c2f4-cd4f090faf00"
      },
      "execution_count": 10,
      "outputs": [
        {
          "output_type": "stream",
          "name": "stdout",
          "text": [
            "Downloading data from https://storage.googleapis.com/tensorflow/tf-keras-datasets/mnist.npz\n",
            "11490434/11490434 [==============================] - 0s 0us/step\n"
          ]
        }
      ]
    },
    {
      "cell_type": "code",
      "source": [
        "X_train = X_train / 255 # normalize training data\n",
        "X_test = X_test / 255 # normalize test data"
      ],
      "metadata": {
        "id": "dOrpz1h105A-"
      },
      "execution_count": 11,
      "outputs": []
    },
    {
      "cell_type": "code",
      "source": [
        "y_train = to_categorical(y_train)\n",
        "y_test = to_categorical(y_test)\n",
        "\n",
        "num_classes = y_test.shape[1] # number of categories"
      ],
      "metadata": {
        "id": "mYL8aBg-1CAK"
      },
      "execution_count": 12,
      "outputs": []
    },
    {
      "cell_type": "markdown",
      "source": [
        "Convolutional Layer with One set of convolutional and pooling layers"
      ],
      "metadata": {
        "id": "e5PQ7uD12NRi"
      }
    },
    {
      "cell_type": "code",
      "source": [
        "def convolutional_model():\n",
        "\n",
        "    # create model\n",
        "    model = Sequential()\n",
        "    model.add(Conv2D(16, (5, 5), strides=(1, 1), activation='relu', input_shape=(28, 28, 1)))\n",
        "    model.add(MaxPooling2D(pool_size=(2, 2), strides=(2, 2)))\n",
        "\n",
        "    model.add(Flatten())\n",
        "    model.add(Dense(100, activation='relu'))\n",
        "    model.add(Dense(num_classes, activation='softmax'))\n",
        "\n",
        "    # compile model\n",
        "    model.compile(optimizer='adam', loss='categorical_crossentropy',  metrics=['accuracy'])\n",
        "    return model"
      ],
      "metadata": {
        "id": "GdvV3XeB1Igg"
      },
      "execution_count": 13,
      "outputs": []
    },
    {
      "cell_type": "code",
      "source": [
        "# build the model\n",
        "model = convolutional_model()\n",
        "\n",
        "# fit the model\n",
        "model.fit(X_train, y_train, validation_data=(X_test, y_test), epochs=10, batch_size=200, verbose=2)\n",
        "\n",
        "# evaluate the model\n",
        "scores = model.evaluate(X_test, y_test, verbose=0)\n",
        "print(\"Accuracy: {} \\n Error: {}\".format(scores[1], 100-scores[1]*100))"
      ],
      "metadata": {
        "colab": {
          "base_uri": "https://localhost:8080/"
        },
        "id": "zSzo4wIB1NHc",
        "outputId": "ee9b0cc8-640e-4b77-8ae2-410c07cdcba8"
      },
      "execution_count": 14,
      "outputs": [
        {
          "output_type": "stream",
          "name": "stdout",
          "text": [
            "Epoch 1/10\n",
            "300/300 - 20s - loss: 0.2985 - accuracy: 0.9162 - val_loss: 0.0974 - val_accuracy: 0.9716 - 20s/epoch - 67ms/step\n",
            "Epoch 2/10\n",
            "300/300 - 17s - loss: 0.0816 - accuracy: 0.9755 - val_loss: 0.0647 - val_accuracy: 0.9804 - 17s/epoch - 57ms/step\n",
            "Epoch 3/10\n",
            "300/300 - 17s - loss: 0.0543 - accuracy: 0.9836 - val_loss: 0.0517 - val_accuracy: 0.9837 - 17s/epoch - 56ms/step\n",
            "Epoch 4/10\n",
            "300/300 - 18s - loss: 0.0430 - accuracy: 0.9871 - val_loss: 0.0405 - val_accuracy: 0.9857 - 18s/epoch - 58ms/step\n",
            "Epoch 5/10\n",
            "300/300 - 17s - loss: 0.0353 - accuracy: 0.9891 - val_loss: 0.0389 - val_accuracy: 0.9882 - 17s/epoch - 56ms/step\n",
            "Epoch 6/10\n",
            "300/300 - 17s - loss: 0.0285 - accuracy: 0.9913 - val_loss: 0.0363 - val_accuracy: 0.9877 - 17s/epoch - 58ms/step\n",
            "Epoch 7/10\n",
            "300/300 - 18s - loss: 0.0244 - accuracy: 0.9922 - val_loss: 0.0347 - val_accuracy: 0.9888 - 18s/epoch - 59ms/step\n",
            "Epoch 8/10\n",
            "300/300 - 17s - loss: 0.0189 - accuracy: 0.9942 - val_loss: 0.0351 - val_accuracy: 0.9885 - 17s/epoch - 57ms/step\n",
            "Epoch 9/10\n",
            "300/300 - 18s - loss: 0.0163 - accuracy: 0.9952 - val_loss: 0.0337 - val_accuracy: 0.9899 - 18s/epoch - 59ms/step\n",
            "Epoch 10/10\n",
            "300/300 - 16s - loss: 0.0142 - accuracy: 0.9957 - val_loss: 0.0346 - val_accuracy: 0.9888 - 16s/epoch - 55ms/step\n",
            "Accuracy: 0.9887999892234802 \n",
            " Error: 1.1200010776519775\n"
          ]
        }
      ]
    },
    {
      "cell_type": "markdown",
      "source": [
        "Convolutional Layer with two sets of convolutional and pooling layers"
      ],
      "metadata": {
        "id": "_iyuzRvN2QFa"
      }
    },
    {
      "cell_type": "code",
      "source": [
        "def convolutional_model():\n",
        "\n",
        "    # create model\n",
        "    model = Sequential()\n",
        "    model.add(Conv2D(16, (5, 5), activation='relu', input_shape=(28, 28, 1)))\n",
        "    model.add(MaxPooling2D(pool_size=(2, 2), strides=(2, 2)))\n",
        "\n",
        "    model.add(Conv2D(8, (2, 2), activation='relu'))\n",
        "    model.add(MaxPooling2D(pool_size=(2, 2), strides=(2, 2)))\n",
        "\n",
        "    model.add(Flatten())\n",
        "    model.add(Dense(100, activation='relu'))\n",
        "    model.add(Dense(num_classes, activation='softmax'))\n",
        "\n",
        "    # Compile model\n",
        "    model.compile(optimizer='adam', loss='categorical_crossentropy',  metrics=['accuracy'])\n",
        "    return model"
      ],
      "metadata": {
        "id": "OfQCioMz1c2S"
      },
      "execution_count": 15,
      "outputs": []
    },
    {
      "cell_type": "code",
      "source": [
        "# build the model\n",
        "model = convolutional_model()\n",
        "\n",
        "# fit the model\n",
        "model.fit(X_train, y_train, validation_data=(X_test, y_test), epochs=10, batch_size=200, verbose=2)\n",
        "\n",
        "# evaluate the model\n",
        "scores = model.evaluate(X_test, y_test, verbose=0)\n",
        "print(\"Accuracy: {} \\n Error: {}\".format(scores[1], 100-scores[1]*100))"
      ],
      "metadata": {
        "colab": {
          "base_uri": "https://localhost:8080/"
        },
        "id": "IsKuGaxR2aQJ",
        "outputId": "d6750b7c-db7f-41db-c33f-3c18a82a768f"
      },
      "execution_count": 16,
      "outputs": [
        {
          "output_type": "stream",
          "name": "stdout",
          "text": [
            "Epoch 1/10\n",
            "300/300 - 20s - loss: 0.4676 - accuracy: 0.8737 - val_loss: 0.1138 - val_accuracy: 0.9658 - 20s/epoch - 68ms/step\n",
            "Epoch 2/10\n",
            "300/300 - 18s - loss: 0.1052 - accuracy: 0.9692 - val_loss: 0.0706 - val_accuracy: 0.9778 - 18s/epoch - 59ms/step\n",
            "Epoch 3/10\n",
            "300/300 - 18s - loss: 0.0771 - accuracy: 0.9774 - val_loss: 0.0591 - val_accuracy: 0.9803 - 18s/epoch - 61ms/step\n",
            "Epoch 4/10\n",
            "300/300 - 18s - loss: 0.0616 - accuracy: 0.9817 - val_loss: 0.0523 - val_accuracy: 0.9830 - 18s/epoch - 59ms/step\n",
            "Epoch 5/10\n",
            "300/300 - 17s - loss: 0.0524 - accuracy: 0.9842 - val_loss: 0.0564 - val_accuracy: 0.9814 - 17s/epoch - 58ms/step\n",
            "Epoch 6/10\n",
            "300/300 - 18s - loss: 0.0478 - accuracy: 0.9858 - val_loss: 0.0446 - val_accuracy: 0.9849 - 18s/epoch - 60ms/step\n",
            "Epoch 7/10\n",
            "300/300 - 18s - loss: 0.0415 - accuracy: 0.9873 - val_loss: 0.0423 - val_accuracy: 0.9866 - 18s/epoch - 59ms/step\n",
            "Epoch 8/10\n",
            "300/300 - 18s - loss: 0.0377 - accuracy: 0.9886 - val_loss: 0.0356 - val_accuracy: 0.9882 - 18s/epoch - 61ms/step\n",
            "Epoch 9/10\n",
            "300/300 - 17s - loss: 0.0335 - accuracy: 0.9899 - val_loss: 0.0409 - val_accuracy: 0.9860 - 17s/epoch - 57ms/step\n",
            "Epoch 10/10\n",
            "300/300 - 19s - loss: 0.0304 - accuracy: 0.9907 - val_loss: 0.0398 - val_accuracy: 0.9854 - 19s/epoch - 64ms/step\n",
            "Accuracy: 0.9854000210762024 \n",
            " Error: 1.4599978923797607\n"
          ]
        }
      ]
    },
    {
      "cell_type": "code",
      "source": [],
      "metadata": {
        "id": "4e3ctWki2cB5"
      },
      "execution_count": null,
      "outputs": []
    }
  ]
}
