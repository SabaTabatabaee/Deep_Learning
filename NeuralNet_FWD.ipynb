{
 "cells": [
  {
   "cell_type": "markdown",
   "id": "5a05ce44-9ebb-464a-86d9-01272fdde17d",
   "metadata": {},
   "source": [
    "# Artificial Neural Networks - Forward Propagation"
   ]
  },
  {
   "cell_type": "markdown",
   "id": "3ab4101f-ac69-4fd7-b398-fa97a5af9d48",
   "metadata": {},
   "source": [
    "<img src=\"http://cocl.us/general_neural_network\" alt=\"Neural Network General\" width=\"600px\">\n"
   ]
  },
  {
   "cell_type": "markdown",
   "id": "16f45016-a90b-4245-8817-61b0c73ca98a",
   "metadata": {},
   "source": [
    "# Initialize the net"
   ]
  },
  {
   "cell_type": "code",
   "execution_count": 8,
   "id": "b3f0f972-f35d-469f-b85f-4d7fb3bf929c",
   "metadata": {},
   "outputs": [],
   "source": [
    "import numpy as np"
   ]
  },
  {
   "cell_type": "code",
   "execution_count": 9,
   "id": "415bd135-112a-4d8e-9fee-2bfd4897f56e",
   "metadata": {},
   "outputs": [],
   "source": [
    "def initialize_network(num_inputs, num_hidden_layers, num_nodes_hidden, num_nodes_output):\n",
    "    \n",
    "    num_nodes_previous = num_inputs # number of nodes in the previous layer\n",
    "\n",
    "    network = {}\n",
    "    \n",
    "    # loop through each layer and randomly initialize the weights and biases associated with each layer\n",
    "    for layer in range(num_hidden_layers + 1):\n",
    "        \n",
    "        if layer == num_hidden_layers:\n",
    "            layer_name = 'output' # name last layer in the network output\n",
    "            num_nodes = num_nodes_output\n",
    "        else:\n",
    "            layer_name = 'layer_{}'.format(layer + 1) # otherwise give the layer a number\n",
    "            num_nodes = num_nodes_hidden[layer] \n",
    "        \n",
    "        # initialize weights and bias for each node\n",
    "        network[layer_name] = {}\n",
    "        for node in range(num_nodes):\n",
    "            node_name = 'node_{}'.format(node+1)\n",
    "            network[layer_name][node_name] = {\n",
    "                'weights': np.around(np.random.uniform(size=num_nodes_previous), decimals=2),\n",
    "                'bias': np.around(np.random.uniform(size=1), decimals=2),\n",
    "            }\n",
    "    \n",
    "        num_nodes_previous = num_nodes\n",
    "\n",
    "    return network # return the network"
   ]
  },
  {
   "cell_type": "markdown",
   "id": "34b1bed5-d3fc-43f9-b66f-771241b93941",
   "metadata": {},
   "source": [
    "## Compute Weighted Sum at Each Node"
   ]
  },
  {
   "cell_type": "code",
   "execution_count": 11,
   "id": "4fc5894b-6e83-4384-bd6a-527e17b68a4f",
   "metadata": {},
   "outputs": [],
   "source": [
    "def compute_weighted_sum(inputs, weights, bias):\n",
    "    return np.sum(inputs * weights) + bias"
   ]
  },
  {
   "cell_type": "markdown",
   "id": "0dd90711-08fd-4296-baad-d33634035567",
   "metadata": {},
   "source": [
    "## Compute Node Activation"
   ]
  },
  {
   "cell_type": "code",
   "execution_count": 12,
   "id": "b5828098-1dd7-4563-9d0f-0b4974e859f1",
   "metadata": {},
   "outputs": [],
   "source": [
    "def node_activation(weighted_sum):\n",
    "    return 1.0 / (1.0 + np.exp(-1 * weighted_sum))"
   ]
  },
  {
   "cell_type": "code",
   "execution_count": 13,
   "id": "30f55537-3271-4e81-a80a-22e8abdf9ba4",
   "metadata": {},
   "outputs": [],
   "source": [
    "def forward_propagate(network, inputs):\n",
    "    \n",
    "    layer_inputs = list(inputs) # start with the input layer as the input to the first hidden layer\n",
    "    \n",
    "    for layer in network:\n",
    "        \n",
    "        layer_data = network[layer]\n",
    "        \n",
    "        layer_outputs = [] \n",
    "        for layer_node in layer_data:\n",
    "        \n",
    "            node_data = layer_data[layer_node]\n",
    "        \n",
    "            # compute the weighted sum and the output of each node at the same time \n",
    "            node_output = node_activation(compute_weighted_sum(layer_inputs, node_data['weights'], node_data['bias']))\n",
    "            layer_outputs.append(np.around(node_output[0], decimals=4))\n",
    "            \n",
    "        if layer != 'output':\n",
    "            print('The outputs of the nodes in hidden layer number {} is {}'.format(layer.split('_')[1], layer_outputs))\n",
    "    \n",
    "        layer_inputs = layer_outputs # set the output of this layer to be the input to next layer\n",
    "\n",
    "    network_predictions = layer_outputs\n",
    "    return network_predictions"
   ]
  },
  {
   "cell_type": "markdown",
   "id": "21d59f3d-bfbd-42a0-9875-915854d54a3b",
   "metadata": {},
   "source": [
    "# Now we can define our network"
   ]
  },
  {
   "cell_type": "markdown",
   "id": "e4ca3f3d-6a8e-4d8c-9534-88bc31ef6bd4",
   "metadata": {},
   "source": [
    "we can define:\n",
    "\n",
    "number of inputs\n",
    "\n",
    "number of hidden layers \n",
    "\n",
    "number of nodes in each hidden layer\n",
    "\n",
    "number of nodes in the output layer\n"
   ]
  },
  {
   "cell_type": "code",
   "execution_count": 17,
   "id": "c82ab0a1-0260-4816-b041-4c4bfff9c966",
   "metadata": {},
   "outputs": [],
   "source": [
    "my_network = initialize_network(5, 3, [2, 3, 2], 3)"
   ]
  },
  {
   "cell_type": "code",
   "execution_count": 18,
   "id": "1a0569f5-e7ae-449f-8e80-041a50e3a046",
   "metadata": {},
   "outputs": [],
   "source": [
    "inputs = np.around(np.random.uniform(size=5), decimals=2)"
   ]
  },
  {
   "cell_type": "code",
   "execution_count": 19,
   "id": "8699ced5-6a46-40e6-a70f-7615aa6443f1",
   "metadata": {},
   "outputs": [
    {
     "name": "stdout",
     "output_type": "stream",
     "text": [
      "The outputs of the nodes in hidden layer number 1 is [0.8982, 0.8963]\n",
      "The outputs of the nodes in hidden layer number 2 is [0.8313, 0.7868, 0.8089]\n",
      "The outputs of the nodes in hidden layer number 3 is [0.6616, 0.9238]\n",
      "The predicted values by the network for the given input are [0.8832, 0.7192, 0.7755]\n"
     ]
    }
   ],
   "source": [
    "predictions = forward_propagate(my_network, inputs)\n",
    "print('The predicted values by the network for the given input are {}'.format(predictions))"
   ]
  },
  {
   "cell_type": "code",
   "execution_count": null,
   "id": "ff27f4e8-9c17-4923-b031-f2b3fa42841d",
   "metadata": {},
   "outputs": [],
   "source": []
  }
 ],
 "metadata": {
  "kernelspec": {
   "display_name": "Python 3 (ipykernel)",
   "language": "python",
   "name": "python3"
  },
  "language_info": {
   "codemirror_mode": {
    "name": "ipython",
    "version": 3
   },
   "file_extension": ".py",
   "mimetype": "text/x-python",
   "name": "python",
   "nbconvert_exporter": "python",
   "pygments_lexer": "ipython3",
   "version": "3.9.13"
  }
 },
 "nbformat": 4,
 "nbformat_minor": 5
}
